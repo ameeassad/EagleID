{
 "cells": [
  {
   "cell_type": "code",
   "execution_count": null,
   "metadata": {},
   "outputs": [],
   "source": [
    "import yaml\n",
    "import sys\n",
    "import os\n",
    "import pandas as pd\n",
    "\n",
    "sys.path.append('..')\n",
    "\n",
    "from wildlife_datasets import analysis, datasets, loader\n",
    "from data.wildlife_dataset import WildlifeDataModule\n",
    "\n",
    "\n",
    "root = '/Users/amee/Documents/code/master-thesis/datasets/'\n",
    "path_raptors = os.path.join(root, 'raptor_individuals_cropped')\n"
   ]
  },
  {
   "cell_type": "code",
   "execution_count": 13,
   "metadata": {},
   "outputs": [
    {
     "name": "stdout",
     "output_type": "stream",
     "text": [
      "Keys in NPZ file: ['mask']\n",
      "\n",
      "len of dict: 49\n",
      "dict_keys(['goleag/Bernheim_athena/wnp-aigle-eagle-1-640x427.jpg', 'baleag/BigBear_jackie/aug-13-2023.jpg', 'baleag/BigBear_shadow/oct23_2022.jpg', 'baleag/Dayton_orv/nov-2023-daytons-bald-eagle-update-willa-orv-still-thriving-after-7-v0-7oyolmrm0i2c1.png', 'baleag/Dayton_willa/Sep-2023-the-carillon-park-dayton-bald-eagles-have-been-enjoying-v0-6jmgqni81bpb1.png', 'goleag/Draper_kateri/kateri-7a.jpg', 'osprey/England_022/March2024-022-left-and-CJ7-right-on-nest copy.png', 'osprey/England_CJ7/March2024-0CJ7-evening.jpg', 'whteag/England_G274/Aug2020-G274-Ainsley-Bennett.jpg', 'whteag/England_G318/Apr2022-G318 .jpg', 'whteag/England_G324/Mar2021- G324 with a couple of seals_9.png', 'whteag/England_G393/Apr8-2020-G393-NorthYorkMoors-Egton-Emma-Thurlow.jpg', 'whteag/England_G405/March2021_G405-atttachedbyJackdaws_Longleat-1536x1197.jpeg', 'whteag/England_G461/March2021-G461-Devon.png', 'whteag/England_G463/Jan2023-G463 (below) tussling with younger male, G812 at Poole Harbour.jpg', 'whteag/England_G466/Dec2023-G466-left- and G463 have paired-up at Poole Harbour.jpg', 'whteag/England_G471/Dec2022-G471 coming to land next to G405.jpg', 'whteag/England_G625/May2024_catching-Pike_Suffolk.jpg', 'whteag/England_G801/Sep2022-G801-Mark-Wright.jpg', 'whteag/England_G812/May2022-G812.jpg', 'osprey/England_LS7/Aug2017-LS7-for-web.jpg', 'osprey/England_morven/July2017-Morven_black_white_PE.jpg', 'osprey/Foulshaw_blue_35/Foulshaw_blue_white-35-Sep-2017-photo3.jpg', 'baleag/NewJersey_duke/6_1_21-Duke-perched-@-Barb-McKee.png', 'goleag/Orrhult_158L/3rd_080120-158L-078.jpg', 'goleag/Orrhult_248H/3-060102-248H-103.jpg', 'goleag/Orrhult_269K/4th_071128-269K-181.jpg', 'goleag/Orrhult_279G/2nd_2-040102-279G-029.jpg', 'goleag/Orrhult_308K/4-071202-308K-273.jpg', 'goleag/Orrhult_506H/6th_081125-506H-304.jpg', 'goleag/Orrhult_511L/2nd_070110-511L-173.jpg', 'goleag/Orrhult_511N/2-080126-511N-019.jpg', 'goleag/RaptorView_503/428643821_18283237921090461_8201109640964170584_n.jpg', 'goleag/RoyDennis_roxy/VariousMarchApril0831.jpg', 'goleag/SouthScotland_beakyC11/T8ot2uOa1fk_27.png', 'goleag/SouthScotland_buccy261/ardverikie-male-26-07-2022-blog.png', 'goleag/SouthScotland_edwardC09/release_18.png', 'goleag/SouthScotland_ellenaB46/img-0146-moment-b46-1.png', 'goleag/SouthScotland_emily121/img-20200421-wa0003.png', 'goleag/SouthScotland_emmaF02/09200004-moment-3-female-f02-again.png', 'goleag/SouthScotland_haworth164/4n7a3867-mazeran-male-29-07-2023.png', 'goleag/SouthScotland_heatherF05/lCS_kQb1ks8_2021_17.png', 'goleag/SouthScotland_ionaC24/3GVejPZmEDQ_22.png', 'goleag/SouthScotland_mapleF24/img-0285-kinveachy-male-31-08-2023.png', 'goleag/SouthScotland_merrickF43/merrick-ge-ssgep.jpg', 'goleag/SouthScotland_paradiseL11/p7203306-colonsay-female-20-06-23.png', 'goleag/SouthScotland_ragnarG5-26/ragnar-pitmain-male-golden-eagle.png', 'goleag/SouthScotland_shineB44/ovsUlrZZoPY_9.png', 'goleag/SouthScotland_skanC17/d_uuGBHMz8E_nov2020_44.png'])\n",
      "Sample keys: ['goleag/Bernheim_athena/wnp-aigle-eagle-1-640x427.jpg', 'baleag/BigBear_jackie/aug-13-2023.jpg', 'baleag/BigBear_shadow/oct23_2022.jpg']\n",
      "Sample value: [array([[False, False, False, ..., False, False, False],\n",
      "       [False, False, False, ..., False, False, False],\n",
      "       [False, False, False, ..., False, False, False],\n",
      "       ...,\n",
      "       [False, False, False, ...,  True,  True,  True],\n",
      "       [False, False, False, ...,  True,  True,  True],\n",
      "       [False, False, False, ...,  True,  True, False]])]\n"
     ]
    }
   ],
   "source": [
    "import numpy as np\n",
    "npz_path=\"/Users/amee/Documents/code/master-thesis/EagleID/query_raptors_mask.npz\"\n",
    "def inspect_npz_contents(npz_path):\n",
    "    \"\"\"Check what's actually stored in the NPZ file\"\"\"\n",
    "    with np.load(npz_path, allow_pickle=True) as data:\n",
    "        print(\"Keys in NPZ file:\", list(data.keys()))\n",
    "        \n",
    "        if 'mask' in data:\n",
    "            the_dict = data['mask'].item()\n",
    "            print(f\"\\nlen of dict: {len(the_dict)}\")\n",
    "\n",
    "            print(the_dict.keys())\n",
    "            print(\"Sample keys:\", list(the_dict.keys())[:3])  # Show first 3 keys\n",
    "            print(\"Sample value:\", list(the_dict.values())[:1])  # Show first value\n",
    "\n",
    "inspect_npz_contents(npz_path)"
   ]
  },
  {
   "cell_type": "markdown",
   "metadata": {},
   "source": [
    "Combine raptors and BirdIndividualID"
   ]
  },
  {
   "cell_type": "code",
   "execution_count": 3,
   "metadata": {},
   "outputs": [],
   "source": [
    "cache_raptors = pd.read_csv('/Users/amee/Documents/code/master-thesis/EagleID/dataset/dataframe/cache_raptors_split2.csv')\n",
    "cache_birdIndividual = pd.read_csv('/Users/amee/Documents/code/master-thesis/EagleID/dataset/dataframe/cache_BirdIndividualID_split.csv')\n",
    "\n",
    "cache_raptors['wildlife_name'] = 'raptors'\n",
    "cache_raptors['path'] = cache_raptors['path'].apply(lambda x: os.path.join('raptor_individuals_cropped', x))\n",
    "cache_raptors['identity'] = 'raptors-' + cache_raptors['identity'].astype(str)\n",
    "\n",
    "cache_birdIndividual['wildlife_name'] = 'BirdIndividualID'\n",
    "cache_birdIndividual['path'] = cache_birdIndividual['path'].apply(lambda x: os.path.join('BirdIndividualID', x))\n",
    "cache_birdIndividual['identity'] = 'BirdIndividualID-' + cache_birdIndividual['identity'].astype(str)\n",
    "\n",
    "cache_allbirds = pd.concat([cache_raptors, cache_birdIndividual], ignore_index=True)\n",
    "cache_allbirds.to_csv('/Users/amee/Documents/code/master-thesis/EagleID/dataset/dataframe/cache_allbirds_split2.csv', index=False)"
   ]
  },
  {
   "cell_type": "code",
   "execution_count": 4,
   "metadata": {},
   "outputs": [],
   "source": [
    "# Fliers\n",
    "cache_raptors = pd.read_csv('/Users/amee/Documents/code/master-thesis/EagleID/dataset/dataframe/cache_raptors_split2.csv')\n",
    "cache_birdIndividual = pd.read_csv('/Users/amee/Documents/code/master-thesis/EagleID/dataset/dataframe/cache_BirdIndividualID_split.csv')\n",
    "cache_whaleshark = pd.read_csv('/Users/amee/Documents/code/master-thesis/EagleID/dataset/dataframe/cache_EDAwhaleshark_split.csv')\n",
    "cache_dolphin = pd.read_csv('/Users/amee/Documents/code/master-thesis/EagleID/dataset/dataframe/cache_dolphins_split.csv')\n",
    "cache_turtles = pd.read_csv('/Users/amee/Documents/code/master-thesis/EagleID/dataset/dataframe/cache_turtles_split.csv')\n",
    "\n",
    "cache_raptors['wildlife_name'] = 'raptors'\n",
    "cache_raptors['path'] = cache_raptors['path'].apply(lambda x: os.path.join('raptor_individuals_cropped', x))\n",
    "cache_raptors['identity'] = 'raptors-' + cache_raptors['identity'].astype(str)\n",
    "\n",
    "cache_birdIndividual['wildlife_name'] = 'BirdIndividualID'\n",
    "cache_birdIndividual['path'] = cache_birdIndividual['path'].apply(lambda x: os.path.join('BirdIndividualID', x))\n",
    "cache_birdIndividual['identity'] = 'BirdIndividualID-' + cache_birdIndividual['identity'].astype(str)\n",
    "\n",
    "cache_whaleshark['wildlife_name'] = 'whaleshark'\n",
    "cache_whaleshark['path'] = cache_whaleshark['path'].apply(lambda x: os.path.join('EDA-whaleshark', x))\n",
    "cache_whaleshark['identity'] = 'whaleshark-' + cache_whaleshark['identity'].astype(str)\n",
    "\n",
    "cache_dolphin['wildlife_name'] = 'NDD20'\n",
    "cache_dolphin['path'] = cache_dolphin['path'].apply(lambda x: os.path.join('NDD20', x))\n",
    "cache_dolphin['identity'] = 'NDD20-' + cache_dolphin['identity'].astype(str)\n",
    "\n",
    "cache_turtles['wildlife_name'] = 'turtle'\n",
    "cache_turtles['path'] = cache_turtles['path'].apply(lambda x: os.path.join('SeaTurtleID2022', x))\n",
    "cache_turtles['identity'] = 'turtle-' + cache_turtles['identity'].astype(str)\n",
    "\n",
    "cache_multispecies = pd.concat([cache_raptors, cache_birdIndividual, cache_whaleshark, cache_dolphin, cache_turtles], ignore_index=True)\n",
    "cache_multispecies.to_csv('/Users/amee/Documents/code/master-thesis/EagleID/dataset/dataframe/cache_fliers_split2.csv', index=False) # save with _split bc already split inidivdually"
   ]
  },
  {
   "cell_type": "markdown",
   "metadata": {},
   "source": [
    "Mammals"
   ]
  },
  {
   "cell_type": "code",
   "execution_count": 5,
   "metadata": {},
   "outputs": [],
   "source": [
    "# Mammals\n",
    "cache_raptors = pd.read_csv('/Users/amee/Documents/code/master-thesis/EagleID/dataset/dataframe/cache_raptors_split2.csv')\n",
    "cache_elephants = pd.read_csv('/Users/amee/Documents/code/master-thesis/EagleID/dataset/dataframe/cache_elephants_split.csv')\n",
    "cache_seals = pd.read_csv('/Users/amee/Documents/code/master-thesis/EagleID/dataset/dataframe/cache_sealID_split.csv')\n",
    "cache_hyenas = pd.read_csv('/Users/amee/Documents/code/master-thesis/EagleID/dataset/dataframe/cache_hyenas_split.csv')\n",
    "\n",
    "cache_raptors['wildlife_name'] = 'raptors'\n",
    "cache_raptors['path'] = cache_raptors['path'].apply(lambda x: os.path.join('raptor_individuals_cropped', x))\n",
    "cache_raptors['identity'] = 'raptors-' + cache_raptors['identity'].astype(str)\n",
    "\n",
    "cache_elephants['wildlife_name'] = 'ELPephant'\n",
    "cache_elephants['path'] = cache_elephants['path'].apply(lambda x: os.path.join('ELPephant', x))\n",
    "cache_elephants['identity'] = 'ELPephant-' + cache_elephants['identity'].astype(str)\n",
    "\n",
    "cache_seals['wildlife_name'] = 'SealID'\n",
    "cache_seals['path'] = cache_seals['path'].apply(lambda x: os.path.join('SealID', x))\n",
    "cache_seals['identity'] = 'whaleshark-' + cache_seals['identity'].astype(str)\n",
    "\n",
    "cache_hyenas['wildlife_name'] = 'hyenas'\n",
    "cache_hyenas['path'] = cache_hyenas['path'].apply(lambda x: os.path.join('HyenaID2022', x))\n",
    "cache_hyenas['identity'] = 'hyenas-' + cache_hyenas['identity'].astype(str)\n",
    "\n",
    "cache_multispecies = pd.concat([cache_raptors, cache_elephants, cache_seals, cache_hyenas], ignore_index=True)\n",
    "cache_multispecies.to_csv('/Users/amee/Documents/code/master-thesis/EagleID/dataset/dataframe/cache_mammals_split2.csv', index=False) # save with _split bc already split inidivdually"
   ]
  },
  {
   "cell_type": "markdown",
   "metadata": {},
   "source": [
    "ATRW + raptors"
   ]
  },
  {
   "cell_type": "code",
   "execution_count": 6,
   "metadata": {},
   "outputs": [],
   "source": [
    "# raptors + ATRW (tigers)\n",
    "cache_raptors = pd.read_csv('/Users/amee/Documents/code/master-thesis/EagleID/dataset/dataframe/cache_raptors_split2.csv')\n",
    "cache_ATRW = pd.read_csv('/Users/amee/Documents/code/master-thesis/EagleID/dataset/dataframe/cache_ATRW2_split.csv')\n",
    "\n",
    "cache_raptors['wildlife_name'] = 'raptors'\n",
    "cache_raptors['path'] = cache_raptors['path'].apply(lambda x: os.path.join('raptor_individuals_cropped', x))\n",
    "cache_raptors['identity'] = 'raptors-' + cache_raptors['identity'].astype(str)\n",
    "\n",
    "cache_ATRW['wildlife_name'] = 'ATRW'\n",
    "cache_ATRW['path'] = cache_ATRW['path'].apply(lambda x: os.path.join('ATRW', x))\n",
    "cache_ATRW['identity'] = 'ATRW-' + cache_ATRW['identity'].astype(str)\n",
    "\n",
    "cache_multispecies = pd.concat([cache_raptors, cache_ATRW], ignore_index=True)\n",
    "cache_multispecies.to_csv('/Users/amee/Documents/code/master-thesis/EagleID/dataset/dataframe/cache_raptorsATRW_split2.csv', index=False) # save with _split bc already split inidivdually"
   ]
  },
  {
   "cell_type": "markdown",
   "metadata": {},
   "source": [
    "nonwild"
   ]
  },
  {
   "cell_type": "code",
   "execution_count": 7,
   "metadata": {},
   "outputs": [],
   "source": [
    "# dogs + raptors\n",
    "# domestic\n",
    "cache_raptors = pd.read_csv('/Users/amee/Documents/code/master-thesis/EagleID/dataset/dataframe/cache_raptors_split2.csv')\n",
    "cache_dogs = pd.read_csv('/Users/amee/Documents/code/master-thesis/EagleID/dataset/dataframe/cache_dogs_split.csv')\n",
    "\n",
    "cache_raptors['wildlife_name'] = 'raptors'\n",
    "cache_raptors['path'] = cache_raptors['path'].apply(lambda x: os.path.join('raptor_individuals_cropped', x))\n",
    "cache_raptors['identity'] = 'raptors-' + cache_raptors['identity'].astype(str)\n",
    "\n",
    "cache_dogs['wildlife_name'] = 'MPDD'\n",
    "cache_dogs['path'] = cache_dogs['path'].apply(lambda x: os.path.join('MPDD', x))\n",
    "cache_dogs['identity'] = 'MPDD-' + cache_dogs['identity'].astype(str)\n",
    "\n",
    "cache_domestic = pd.concat([cache_raptors, cache_dogs], ignore_index=True)\n",
    "cache_domestic.to_csv('/Users/amee/Documents/code/master-thesis/EagleID/dataset/dataframe/cache_domestic_split2.csv', index=False) # save with _split bc already split inidivdually"
   ]
  },
  {
   "cell_type": "markdown",
   "metadata": {},
   "source": [
    "Turtles + Raptors"
   ]
  },
  {
   "cell_type": "code",
   "execution_count": null,
   "metadata": {},
   "outputs": [],
   "source": [
    "# turtles + raptors\n",
    "cache_raptors = pd.read_csv('/Users/amee/Documents/code/master-thesis/EagleID/dataset/dataframe/cache_raptors_split.csv')\n",
    "cache_turtles = pd.read_csv('/Users/amee/Documents/code/master-thesis/EagleID/dataset/dataframe/cache_turtles_split.csv')\n",
    "\n",
    "cache_raptors['wildlife_name'] = 'raptors'\n",
    "cache_raptors['path'] = cache_raptors['path'].apply(lambda x: os.path.join('raptor_individuals_cropped', x))\n",
    "cache_raptors['identity'] = 'raptors-' + cache_raptors['identity'].astype(str)\n",
    "\n",
    "cache_turtles['wildlife_name'] = 'turtle'\n",
    "cache_turtles['path'] = cache_turtles['path'].apply(lambda x: os.path.join('SeaTurtleID2022', x))\n",
    "cache_turtles['identity'] = 'turtle-' + cache_turtles['identity'].astype(str)\n",
    "\n",
    "cache_domestic = pd.concat([cache_raptors, cache_turtles], ignore_index=True)\n",
    "cache_domestic.to_csv('/Users/amee/Documents/code/master-thesis/EagleID/dataset/dataframe/cache_turtlefly_split.csv', index=False) # save with _split bc already split inidivdually"
   ]
  },
  {
   "cell_type": "markdown",
   "metadata": {},
   "source": [
    "MIXED"
   ]
  },
  {
   "cell_type": "code",
   "execution_count": 8,
   "metadata": {},
   "outputs": [],
   "source": [
    "# MIXED ALL\n",
    "cache_raptors = pd.read_csv('/Users/amee/Documents/code/master-thesis/EagleID/dataset/dataframe/cache_raptors_split2.csv')\n",
    "cache_elephants = pd.read_csv('/Users/amee/Documents/code/master-thesis/EagleID/dataset/dataframe/cache_elephants_split.csv')\n",
    "cache_seals = pd.read_csv('/Users/amee/Documents/code/master-thesis/EagleID/dataset/dataframe/cache_sealID_split.csv')\n",
    "cache_hyenas = pd.read_csv('/Users/amee/Documents/code/master-thesis/EagleID/dataset/dataframe/cache_hyenas_split.csv')\n",
    "cache_ATRW = pd.read_csv('/Users/amee/Documents/code/master-thesis/EagleID/dataset/dataframe/cache_ATRW2_split.csv')\n",
    "cache_birdIndividual = pd.read_csv('/Users/amee/Documents/code/master-thesis/EagleID/dataset/dataframe/cache_BirdIndividualID_split.csv')\n",
    "cache_whaleshark = pd.read_csv('/Users/amee/Documents/code/master-thesis/EagleID/dataset/dataframe/cache_EDAwhaleshark_split.csv')\n",
    "cache_dolphin = pd.read_csv('/Users/amee/Documents/code/master-thesis/EagleID/dataset/dataframe/cache_dolphins_split.csv')\n",
    "cache_dogs = pd.read_csv('/Users/amee/Documents/code/master-thesis/EagleID/dataset/dataframe/cache_dogs_split.csv')\n",
    "cache_turtles = pd.read_csv('/Users/amee/Documents/code/master-thesis/EagleID/dataset/dataframe/cache_turtles_split.csv')\n",
    "\n",
    "\n",
    "cache_raptors['wildlife_name'] = 'raptors'\n",
    "cache_raptors['path'] = cache_raptors['path'].apply(lambda x: os.path.join('raptor_individuals_cropped', x))\n",
    "cache_raptors['identity'] = 'raptors-' + cache_raptors['identity'].astype(str)\n",
    "\n",
    "cache_elephants['wildlife_name'] = 'ELPephant'\n",
    "cache_elephants['path'] = cache_elephants['path'].apply(lambda x: os.path.join('ELPephant', x))\n",
    "cache_elephants['identity'] = 'ELPephant-' + cache_elephants['identity'].astype(str)\n",
    "\n",
    "cache_seals['wildlife_name'] = 'SealID'\n",
    "cache_seals['path'] = cache_seals['path'].apply(lambda x: os.path.join('SealID', x))\n",
    "cache_seals['identity'] = 'whaleshark-' + cache_seals['identity'].astype(str)\n",
    "\n",
    "cache_hyenas['wildlife_name'] = 'hyenas'\n",
    "cache_hyenas['path'] = cache_hyenas['path'].apply(lambda x: os.path.join('HyenaID2022', x))\n",
    "cache_hyenas['identity'] = 'hyenas-' + cache_hyenas['identity'].astype(str)\n",
    "\n",
    "cache_ATRW['wildlife_name'] = 'ATRW'\n",
    "cache_ATRW['path'] = cache_ATRW['path'].apply(lambda x: os.path.join('ATRW', x))\n",
    "cache_ATRW['identity'] = 'ATRW-' + cache_ATRW['identity'].astype(str)\n",
    "\n",
    "cache_birdIndividual['wildlife_name'] = 'BirdIndividualID'\n",
    "cache_birdIndividual['path'] = cache_birdIndividual['path'].apply(lambda x: os.path.join('BirdIndividualID', x))\n",
    "cache_birdIndividual['identity'] = 'BirdIndividualID-' + cache_birdIndividual['identity'].astype(str)\n",
    "\n",
    "cache_whaleshark['wildlife_name'] = 'whaleshark'\n",
    "cache_whaleshark['path'] = cache_whaleshark['path'].apply(lambda x: os.path.join('EDA-whaleshark', x))\n",
    "cache_whaleshark['identity'] = 'whaleshark-' + cache_whaleshark['identity'].astype(str)\n",
    "\n",
    "cache_dolphin['wildlife_name'] = 'NDD20'\n",
    "cache_dolphin['path'] = cache_dolphin['path'].apply(lambda x: os.path.join('NDD20', x))\n",
    "cache_dolphin['identity'] = 'NDD20-' + cache_dolphin['identity'].astype(str)\n",
    "\n",
    "cache_dogs['wildlife_name'] = 'MPDD'\n",
    "cache_dogs['path'] = cache_dogs['path'].apply(lambda x: os.path.join('MPDD', x))\n",
    "cache_dogs['identity'] = 'MPDD-' + cache_dogs['identity'].astype(str)\n",
    "\n",
    "cache_turtles['wildlife_name'] = 'turtle'\n",
    "cache_turtles['path'] = cache_turtles['path'].apply(lambda x: os.path.join('SeaTurtleID2022', x))\n",
    "cache_turtles['identity'] = 'turtle-' + cache_turtles['identity'].astype(str)\n",
    "\n",
    "cache_multispecies = pd.concat([cache_raptors, cache_elephants, cache_seals, cache_hyenas, cache_ATRW, cache_birdIndividual, cache_whaleshark, cache_dolphin, cache_dogs, cache_turtles], ignore_index=True)\n",
    "cache_multispecies.to_csv('/Users/amee/Documents/code/master-thesis/EagleID/dataset/dataframe/cache_mixed_split2.csv', index=False) # save with _split bc already split inidivdually"
   ]
  },
  {
   "cell_type": "code",
   "execution_count": null,
   "metadata": {},
   "outputs": [],
   "source": []
  }
 ],
 "metadata": {
  "kernelspec": {
   "display_name": "pytorch_env",
   "language": "python",
   "name": "python3"
  },
  "language_info": {
   "codemirror_mode": {
    "name": "ipython",
    "version": 3
   },
   "file_extension": ".py",
   "mimetype": "text/x-python",
   "name": "python",
   "nbconvert_exporter": "python",
   "pygments_lexer": "ipython3",
   "version": "3.12.2"
  }
 },
 "nbformat": 4,
 "nbformat_minor": 2
}
