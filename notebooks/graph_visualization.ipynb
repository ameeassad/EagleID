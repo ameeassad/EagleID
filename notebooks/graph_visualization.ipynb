{
 "cells": [
  {
   "cell_type": "code",
   "execution_count": 3,
   "metadata": {},
   "outputs": [
    {
     "data": {
      "text/plain": [
       "'fusion_model.png'"
      ]
     },
     "execution_count": 3,
     "metadata": {},
     "output_type": "execute_result"
    }
   ],
   "source": [
    "from torchviz import make_dot\n",
    "import sys\n",
    "sys.path.append('..')\n",
    "from models.fusion_model import FusionModel\n",
    "import torch\n",
    "\n",
    "\n",
    "model = FusionModel()\n",
    "dummy_input = torch.randn(1, 3, 224, 224)  # Assuming RGB input with 3 channels\n",
    "output = model(dummy_input)\n",
    "\n",
    "make_dot(output, params=dict(model.named_parameters())).render(\"fusion_model\", format=\"png\")\n"
   ]
  }
 ],
 "metadata": {
  "kernelspec": {
   "display_name": "pytorch_env",
   "language": "python",
   "name": "python3"
  },
  "language_info": {
   "codemirror_mode": {
    "name": "ipython",
    "version": 3
   },
   "file_extension": ".py",
   "mimetype": "text/x-python",
   "name": "python",
   "nbconvert_exporter": "python",
   "pygments_lexer": "ipython3",
   "version": "3.12.2"
  }
 },
 "nbformat": 4,
 "nbformat_minor": 2
}
