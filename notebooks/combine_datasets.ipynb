{
 "cells": [
  {
   "cell_type": "code",
   "execution_count": null,
   "metadata": {},
   "outputs": [],
   "source": [
    "import yaml\n",
    "import sys\n",
    "import os\n",
    "sys.path.append('..')\n",
    "\n",
    "from wildlife_datasets import analysis, datasets, loader\n",
    "\n",
    "datasets_cloud = '/Users/amee/Library/Mobile Documents/com~apple~CloudDocs/wildlife-datasets/'\n",
    "path = os.path.join(datasets_cloud, 'SeaTurtleID2022')\n",
    "# path = '/Users/amee/Documents/code/master-thesis/datasets/GiraffeZebraID/'"
   ]
  },
  {
   "cell_type": "code",
   "execution_count": null,
   "metadata": {},
   "outputs": [],
   "source": [
    "from data.wildlife_dataset import WildlifeDataModule\n",
    "\n",
    "dataset1 = datasets.SeaTurtleID2022(path)\n",
    "data = WildlifeDataModule(metadata=df,data_dir=path, animal_cat=\"reptile\", preprocess_lvl=2)\n"
   ]
  },
  {
   "cell_type": "code",
   "execution_count": null,
   "metadata": {},
   "outputs": [],
   "source": []
  }
 ],
 "metadata": {
  "language_info": {
   "name": "python"
  }
 },
 "nbformat": 4,
 "nbformat_minor": 2
}
